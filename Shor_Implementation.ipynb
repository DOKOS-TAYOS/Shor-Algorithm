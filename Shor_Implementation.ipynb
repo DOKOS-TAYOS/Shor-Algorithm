{
 "cells": [
  {
   "cell_type": "markdown",
   "id": "10b941b5-8c22-4809-b620-ad8a2e2d0db4",
   "metadata": {
    "id": "10b941b5-8c22-4809-b620-ad8a2e2d0db4",
    "tags": []
   },
   "source": [
    "# Shor's Algorithm\n",
    "---\n",
    "\n"
   ]
  },
  {
   "cell_type": "markdown",
   "id": "voTbtzBLG8An",
   "metadata": {
    "id": "voTbtzBLG8An"
   },
   "source": [
    "Author: Alejandro Mata Ali"
   ]
  },
  {
   "cell_type": "markdown",
   "id": "adc845d5-3cb6-45e7-8866-b8fbc7174234",
   "metadata": {
    "id": "adc845d5-3cb6-45e7-8866-b8fbc7174234"
   },
   "source": [
    "This notebook will implement Shor's algorithm using Quantum Phase Estimation with QFT (QPEwQFT) and using Iterative Quantum Phase Estimation (IQPE).\n",
    "\n",
    "The basic paper that is followed in the creation of gates is: https://arxiv.org/abs/quant-ph/0205095, by Stéphane Beauregard.[1]\n",
    "\n",
    "An explanation of Shor's algorithm: https://hmong.es/wiki/Shor%27s_algorithm [2]\n",
    "\n",
    "Explanation of the IQPE: \n",
    "https://doi.org/10.48550/arXiv.quant-ph/0001066 [3]\n",
    "\n",
    "Explanation author's seminar: https://youtu.be/AJqLk4-tzcc"
   ]
  },
  {
   "cell_type": "markdown",
   "id": "gZVEk6dbJIIU",
   "metadata": {
    "id": "gZVEk6dbJIIU",
    "tags": []
   },
   "source": [
    "---\n",
    "Shor's algorithm is an algorithm for factoring the number $N = p \\cdot q$ into the prime numbers $p$ and $q$ in polynomial time using quantum computing techniques.\n",
    "\n",
    "The algorithm proceeds as follows:\n",
    "\n",
    "### **Classical part**.\n",
    "\n",
    "* Choose a random number $a$ between $2$ and $N-1$.\n",
    "* Calculate $gcd(a, N)$ (greatest common divisor).\n",
    "If $gcd(a, N) \\neq 1$, this number is a non-trivial factor of $N$ and we are done.\n",
    "* If $gcd(a, N) = 1$, we use the quantum part to find $r$, the period of the function: \n",
    "$f(x)=a^{x}{\\bmod {N}}$.\n",
    "* This $r$ is the smallest positive integer $r$ for which $f(x+r)=f(x)$.\n",
    "* If $r$ is odd, we go back to step 1 (because we need its half).\n",
    "* If $a^{r/2} = -1({\\bmod {N}})$, we go back to step 1.\n",
    "Otherwise, both $gcd(a^{r/2}+1,N)$ and $gcd(a^{r/2}-1,N)$ are non-trivial factors of $N$, the primes we want.\n",
    "\n",
    "### **Quantum Part**\n",
    "\n",
    "There are 2 possibilities which we will study later, but conceptually it is based on studying the eigenvalues of the operator $U_a$ which converts $|x\\rangle$ into $|(a\\cdot x)mod(N)\\rangle$. This unitary operator introduces a phase in these states, which we can measure with quantum phase estimation methods and allows us to obtain the periodicity of the function $f(y)=a^{y}{bmod {N}}$.\n",
    "\n",
    "The idea is that we are going to calculate with a superposition of states that we will interweave with the self-state.\n",
    "\n",
    "Since we are going to study $f(y)=a^{y}{\\bmod {N}}$, we will make the input state $|1\\rangle$, since it is the self-state of this operator."
   ]
  },
  {
   "cell_type": "markdown",
   "id": "73c165b6-14ae-41ac-8d02-ce4ffb5f23e3",
   "metadata": {
    "id": "73c165b6-14ae-41ac-8d02-ce4ffb5f23e3"
   },
   "source": [
    "---\n",
    "### Packages."
   ]
  },
  {
   "cell_type": "markdown",
   "id": "Sv-kqAANLqqd",
   "metadata": {
    "id": "Sv-kqAANLqqd"
   },
   "source": [
    "The packages we will need are the following:\n",
    "* numpy (1.21.5): basic library for certain constants such as $\\pi$ or functions for calculating binary numbers (floor and log2).\n",
    "* pandas (1.4.2): library for processing results in tabular form to improve analysis.\n",
    "* matplotlib.pyplot (3.5.1): package for graphing.\n",
    "* qat.lang.AQASM (2.1.3): module for the creation and execution of quantum circuits.\n",
    "* qat.qpus : package to obtain the qpu.\n",
    "* QQuantLib: the modules phase_estimation_wqft and iterative_quantum_pe from the PhaseEstimation package, and solver and data_extracting from the Utils package of this library. It can be found at the GitHub link https://github.com/NEASQC/FinancialApplications."
   ]
  },
  {
   "cell_type": "code",
   "execution_count": 1,
   "id": "79f31419-ddd9-4130-aeae-896abf9d18be",
   "metadata": {
    "id": "79f31419-ddd9-4130-aeae-896abf9d18be"
   },
   "outputs": [
    {
     "name": "stdin",
     "output_type": "stream",
     "text": [
      "Username:  tec_app3\n",
      " ··········\n"
     ]
    }
   ],
   "source": [
    "#Visualisation and calculation.\n",
    "import numpy as np\n",
    "import pandas as pd\n",
    "import matplotlib.pyplot as plt\n",
    "#Quantum\n",
    "from qat.lang.AQASM import *\n",
    "from qat.qpus import get_default_qpu\n",
    "#External library to perform the QFT\n",
    "from QQuantLib.PE.phase_estimation_wqft import PhaseEstimationwQFT\n",
    "from QQuantLib.PE.iterative_quantum_pe import IterativeQuantumPE\n",
    "from QQuantLib.utils.data_extracting import get_results"
   ]
  },
  {
   "cell_type": "code",
   "execution_count": 2,
   "id": "941ac30f-f3e3-4b6c-b613-34784f7aa392",
   "metadata": {
    "id": "941ac30f-f3e3-4b6c-b613-34784f7aa392"
   },
   "outputs": [],
   "source": [
    "#Package for the first connection.\n",
    "#from qat.qlmaas import QLMaaSConnection\n",
    "#conn = QLMaaSConnection(hostname=\"10.120.6.44\", check_host=False)\n",
    "#conn.create_config()"
   ]
  },
  {
   "cell_type": "markdown",
   "id": "71665ab2-a97d-48b5-ba6a-9ec020951b16",
   "metadata": {
    "id": "71665ab2-a97d-48b5-ba6a-9ec020951b16"
   },
   "source": [
    "In this cell we declare which QLM resolver we are going to use:\n",
    "* QLMaaS == False -> PyLinalg\n",
    "* QLMaaS == True -> Try to use LinAlg (To use QPU as the CESGA QLM)"
   ]
  },
  {
   "cell_type": "code",
   "execution_count": 2,
   "id": "281cf791-1745-4872-b4dd-b8e5038e5e7f",
   "metadata": {
    "id": "281cf791-1745-4872-b4dd-b8e5038e5e7f",
    "outputId": "b8b08e69-f851-469a-97d9-b1b9f672b83f"
   },
   "outputs": [
    {
     "name": "stdout",
     "output_type": "stream",
     "text": [
      "Using: LinAlg\n"
     ]
    }
   ],
   "source": [
    "from QQuantLib.utils.qlm_solver import get_qpu\n",
    "QLMaaS = True\n",
    "linalg_qpu = get_qpu(QLMaaS)#This line acquires the resolver we have specified."
   ]
  },
  {
   "cell_type": "markdown",
   "id": "ef9e8114-00f9-4107-96b9-34b09aa009a8",
   "metadata": {
    "id": "ef9e8114-00f9-4107-96b9-34b09aa009a8"
   },
   "source": [
    "---\n",
    "# Puertas."
   ]
  },
  {
   "cell_type": "markdown",
   "id": "afd3c441-e1e1-4a62-b106-e14f1abaccd5",
   "metadata": {
    "id": "afd3c441-e1e1-4a62-b106-e14f1abaccd5"
   },
   "source": [
    "Here we will implement the necessary gates to generate Shor's gate.\n",
    "\n",
    "The main goal is to get a gate $U_a$ such that:\n",
    "$$U_a|x\\rangle = |(a\\cdot x)mod (N)\\rangle$$\n",
    "\n",
    "To do so, we will follow the entire procedure of the paper [1]."
   ]
  },
  {
   "cell_type": "markdown",
   "id": "hoBgld5IM4k3",
   "metadata": {
    "id": "hoBgld5IM4k3"
   },
   "source": [
    "First we will define each gate, then we will visualise it and finally we will explain how it works."
   ]
  },
  {
   "cell_type": "markdown",
   "id": "ad5176a3-9301-4614-a1f9-892ce7419c3c",
   "metadata": {
    "id": "ad5176a3-9301-4614-a1f9-892ce7419c3c"
   },
   "source": [
    "We will start with the auxiliary functions for dealing with binary numbers and for modular algebra."
   ]
  },
  {
   "cell_type": "code",
   "execution_count": 3,
   "id": "dc435b8a-8329-4d1f-8e76-f6593c178c84",
   "metadata": {
    "id": "dc435b8a-8329-4d1f-8e76-f6593c178c84"
   },
   "outputs": [],
   "source": [
    "def numbin(a, n):\n",
    "    '''Function that converts the decimal number a to a binary number with n bits.\n",
    "    \n",
    "    Parameters:\n",
    "    a : integer that we want to convert to binary.\n",
    "    n : integer of the number of bits we want for binary.\n",
    "    '''\n",
    "    a = format( a, 'b' )     #We convert the number to binary\n",
    "    return '0'*(n-len(a)) + a#We add the necessary leading zeros to make it have the number of bits.\n",
    "\n",
    "def m_inv(a, N):\n",
    "    '''Function that implements the inverse module of N.'''\n",
    "    for _ in range(1, N):                          #We go through all the numbers between 1 and N.\n",
    "        if ((a%N) * (_%N)) % N == 1: return _      #If it is the inverse, we return the result and we are done.\n",
    "    raise Exception('The inverse modulo does not exist.')# In case there is no such number."
   ]
  },
  {
   "cell_type": "markdown",
   "id": "a10bb3d7-8b21-4072-a2c9-7bcf73f342f3",
   "metadata": {
    "id": "a10bb3d7-8b21-4072-a2c9-7bcf73f342f3"
   },
   "source": [
    "## $\\phi ADD(a)$"
   ]
  },
  {
   "cell_type": "markdown",
   "id": "t4DbN6wBFd0Z",
   "metadata": {
    "id": "t4DbN6wBFd0Z"
   },
   "source": [
    "The first gate we are going to implement is the gate $\\phi ADD(a)$, that transforms  $|\\phi(b)\\rangle$  into  $|\\phi(b+a)\\rangle$."
   ]
  },
  {
   "cell_type": "code",
   "execution_count": 4,
   "id": "f2c93ad9-d8da-41cf-af46-2891551a46b7",
   "metadata": {
    "id": "f2c93ad9-d8da-41cf-af46-2891551a46b7"
   },
   "outputs": [],
   "source": [
    "@build_gate('ADD', [int, str], arity=lambda n, a: n)\n",
    "def add_g(n, a):\n",
    "    '''Implementation of the phiADD(a) gate with n qbits.\n",
    "    phi(b) -> phi(b+a)\n",
    "    a is the binary of the number to implement.'''\n",
    "    #-------------------------------------\n",
    "    routine = QRoutine()\n",
    "    #-------------------------------------\n",
    "    b = routine.new_wires(n)#Input lines.\n",
    "    \n",
    "    #-------------------------------------\n",
    "    #We run the addition.\n",
    "    for i in range(n):#Target\n",
    "        angle = sum( np.array( [ int(a[j])/2**(j-i) for j in range(i, n) ] ) )\n",
    "        if angle != 0: routine.apply( PH(np.pi*angle), b[i] )\n",
    "    \n",
    "    return routine"
   ]
  },
  {
   "cell_type": "code",
   "execution_count": 5,
   "id": "sqzWb3FSNTuW",
   "metadata": {
    "id": "sqzWb3FSNTuW"
   },
   "outputs": [
    {
     "data": {
      "text/html": [
       "<svg baseProfile=\"full\" height=\"400\" version=\"1.1\" viewBox=\"0 0 185 229\" width=\"1200\" xmlns=\"http://www.w3.org/2000/svg\" xmlns:ev=\"http://www.w3.org/2001/xml-events\" xmlns:xlink=\"http://www.w3.org/1999/xlink\"><defs><style type=\"text/css\"><![CDATA[@font-face{ \n",
       "    font-family: \"STIXMathJax_Main-Italic\"; \n",
       "    src: url(\"data:application/x-font-opentype;charset=utf-8;base64,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\"); \n",
       "}\n",
       "]]></style></defs><text style=\"font-family: STIXMathJax_Main-Italic; font-size: 16px;\" x=\"10\" y=\"37\">Q0</text><line stroke=\"rgb(0,0,0)\" x1=\"50\" x2=\"185\" y1=\"32\" y2=\"32\" /><text style=\"font-family: STIXMathJax_Main-Italic; font-size: 16px;\" x=\"10\" y=\"69\">Q1</text><line stroke=\"rgb(0,0,0)\" x1=\"50\" x2=\"185\" y1=\"64\" y2=\"64\" /><text style=\"font-family: STIXMathJax_Main-Italic; font-size: 16px;\" x=\"10\" y=\"101\">Q2</text><line stroke=\"rgb(0,0,0)\" x1=\"50\" x2=\"185\" y1=\"96\" y2=\"96\" /><text style=\"font-family: STIXMathJax_Main-Italic; font-size: 16px;\" x=\"10\" y=\"133\">Q3</text><line stroke=\"rgb(0,0,0)\" x1=\"50\" x2=\"185\" y1=\"128\" y2=\"128\" /><rect fill=\"white\" height=\"24\" stroke=\"black\" stroke-width=\"2\" width=\"107\" x=\"60\" y=\"20\" /><text style=\"font-family: STIXMathJax_Main-Italic; font-size: 16px;\" x=\"68\" y=\"37\">PH [      2.36]</text><rect fill=\"white\" height=\"24\" stroke=\"black\" stroke-width=\"2\" width=\"107\" x=\"60\" y=\"52\" /><text style=\"font-family: STIXMathJax_Main-Italic; font-size: 16px;\" x=\"68\" y=\"69\">PH [      4.71]</text><rect fill=\"white\" height=\"24\" stroke=\"black\" stroke-width=\"2\" width=\"63\" x=\"60\" y=\"84\" /><text style=\"font-family: STIXMathJax_Main-Italic; font-size: 16px;\" x=\"68\" y=\"101\">PH [π]</text></svg>"
      ],
      "text/plain": [
       "<IPython.core.display.HTML object>"
      ]
     },
     "execution_count": 5,
     "metadata": {},
     "output_type": "execute_result"
    }
   ],
   "source": [
    "gate = add_g(4, numbin(6, 4))\n",
    "%qatdisplay gate --depth 1 --svg"
   ]
  },
  {
   "cell_type": "markdown",
   "id": "2U1aH2FhNZZH",
   "metadata": {
    "id": "2U1aH2FhNZZH"
   },
   "source": [
    "The operation of this gate is as follows:\n",
    "\n",
    "* The input that the gate receives will be the quantum Fourier transform of the number $b$ ( $\\phi(b)$ ), and its output will be $\\phi(b+a)$.\n",
    "* Its input parameter will be the number $a$ that we want to use in binary format with n bits. It is important that it has the same number of bits as the input $\\phi(b)$, since a 1 to 1 relationship is established between them.\n",
    "\n",
    "* We create a group of rings for the number a and initialise them (with X gates) to be the state $|a_0 a_1 \\dots a_{n-2} a_{n-1}\\rangle$ with the $a_k$ being those that satisfy  $a = \\sum_{k=0}^{n-1} a_k 2^{n-1-k}$.\n",
    "\n",
    "Why do we use the quantum Fourier transform?\n",
    "\n",
    "This is because in the transformed space, the phases over the states are sums over the standard space. Therefore, adding a phase in  $\\phi(b)$ is the same as adding a number in $b$."
   ]
  },
  {
   "cell_type": "markdown",
   "id": "MIPny2CFQB0i",
   "metadata": {
    "id": "MIPny2CFQB0i"
   },
   "source": [
    "* After that, we apply controlled phase gates on the $|\\phi_i\\rangle$ qbit. We add controls from the $|a_j\\rangle$ with $j \\geq i$ with a phase $\\frac{\\pi}{2^{j-i}}$. (One way to save the anchors and controls is to use an if, since it is a classical number that enters as a parameter).\n",
    "\n",
    "* Finally we reset the anchors and we have the state $|\\phi(b+a)\\rangle$."
   ]
  },
  {
   "cell_type": "markdown",
   "id": "dadd637a-db76-4ccc-9a11-30311e0d8754",
   "metadata": {
    "id": "dadd637a-db76-4ccc-9a11-30311e0d8754"
   },
   "source": [
    "## Addmod"
   ]
  },
  {
   "cell_type": "markdown",
   "id": "FuRMqQEVYTmG",
   "metadata": {
    "id": "FuRMqQEVYTmG"
   },
   "source": [
    "The second gate we are going to implement is the gate $\\phi ADD(a)mod(N)$, that transforms  $|\\phi(b)\\rangle$  into  $|\\phi(b+a)mod(N)\\rangle$."
   ]
  },
  {
   "cell_type": "code",
   "execution_count": 5,
   "id": "f31877c5-c0f7-4179-bee1-04cad81e0454",
   "metadata": {
    "id": "f31877c5-c0f7-4179-bee1-04cad81e0454"
   },
   "outputs": [],
   "source": [
    "@build_gate('ADDmod', [int, str, str], arity=lambda n, a, N: n)\n",
    "def addmod_g(n, a, N):\n",
    "    '''Implementation of the phiADD(a)mod(N) gate with n qbits.\n",
    "    phi(b) -> phi((b+a)mod(N))\n",
    "    a and N are the binary numbers to be implemented.'''\n",
    "    #-------------------------------------\n",
    "    routine = QRoutine()\n",
    "    #-------------------------------------\n",
    "    b  = routine.new_wires(n)#Input lines.\n",
    "    a0 = routine.new_wires(1); routine.set_ancillae(a0)#Control ancilla of the most significant bit.\n",
    "    \n",
    "    #-------------------------------------\n",
    "    #We apply the algorithm:\n",
    "    #Add a, subtract N, QFT-1, we take out the most significant, QFT, add N\n",
    "    routine.apply(add_g(n, a), b)\n",
    "    \n",
    "    routine.apply(add_g(n, N).dag(), b)\n",
    "    routine.apply(qftarith.QFT(n).dag(), b)\n",
    "    routine.apply(CNOT, b[0], a0)\n",
    "    routine.apply(qftarith.QFT(n), b)\n",
    "    routine.apply(add_g(n, N).ctrl(), a0, b)\n",
    "    \n",
    "    \n",
    "    #-------------------------------------\n",
    "    #Subtract a, QFT-1, significant, QFT, sum a\n",
    "    routine.apply(add_g(n, a).dag(), b)\n",
    "    \n",
    "    routine.apply(qftarith.QFT(n).dag(), b)\n",
    "    routine.apply(X, b[0]); routine.apply(CNOT, b[0], a0); routine.apply(X, b[0])\n",
    "    routine.apply(qftarith.QFT(n), b)\n",
    "    \n",
    "    routine.apply(add_g(n, a), b)\n",
    "    \n",
    "    return routine"
   ]
  },
  {
   "cell_type": "code",
   "execution_count": 7,
   "id": "IRz4Zh9HYzOx",
   "metadata": {
    "id": "IRz4Zh9HYzOx"
   },
   "outputs": [
    {
     "data": {
      "text/html": [
       "<svg baseProfile=\"full\" height=\"400\" version=\"1.1\" viewBox=\"0 0 1126 261\" width=\"1200\" xmlns=\"http://www.w3.org/2000/svg\" xmlns:ev=\"http://www.w3.org/2001/xml-events\" xmlns:xlink=\"http://www.w3.org/1999/xlink\"><defs><style type=\"text/css\"><![CDATA[@font-face{ \n",
       "    font-family: \"STIXMathJax_Main-Italic\"; \n",
       "    src: url(\"data:application/x-font-opentype;charset=utf-8;base64,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\"); \n",
       "}\n",
       "]]></style></defs><text style=\"font-family: STIXMathJax_Main-Italic; font-size: 16px;\" x=\"10\" y=\"37\">Q0</text><line stroke=\"rgb(0,0,0)\" x1=\"50\" x2=\"1126\" y1=\"32\" y2=\"32\" /><text style=\"font-family: STIXMathJax_Main-Italic; font-size: 16px;\" x=\"10\" y=\"69\">Q1</text><line stroke=\"rgb(0,0,0)\" x1=\"50\" x2=\"1126\" y1=\"64\" y2=\"64\" /><text style=\"font-family: STIXMathJax_Main-Italic; font-size: 16px;\" x=\"10\" y=\"101\">Q2</text><line stroke=\"rgb(0,0,0)\" x1=\"50\" x2=\"1126\" y1=\"96\" y2=\"96\" /><text style=\"font-family: STIXMathJax_Main-Italic; font-size: 16px;\" x=\"10\" y=\"133\">Q3</text><line stroke=\"rgb(0,0,0)\" x1=\"50\" x2=\"1126\" y1=\"128\" y2=\"128\" /><text style=\"font-family: STIXMathJax_Main-Italic; font-size: 16px;\" x=\"10\" y=\"165\">Q4</text><line stroke=\"rgb(0,0,0)\" x1=\"50\" x2=\"1126\" y1=\"160\" y2=\"160\" /><rect fill=\"white\" height=\"120\" stroke=\"black\" stroke-width=\"2\" width=\"96\" x=\"60\" y=\"20\" /><text style=\"font-family: STIXMathJax_Main-Italic; font-size: 16px;\" x=\"68\" y=\"85\">ADD [4, ...]</text><rect fill=\"white\" height=\"120\" stroke=\"black\" stroke-width=\"2\" width=\"106\" x=\"166\" y=\"20\" /><text style=\"font-family: STIXMathJax_Main-Italic; font-size: 16px;\" x=\"174\" y=\"85\">ADD [4, ...]</text><text style=\"font-family: STIXMathJax_Main-Italic; font-size: 10px;\" x=\"259\" y=\"80\">†</text><rect fill=\"white\" height=\"120\" stroke=\"black\" stroke-width=\"2\" width=\"82\" x=\"282\" y=\"20\" /><text style=\"font-family: STIXMathJax_Main-Italic; font-size: 16px;\" x=\"290\" y=\"85\">QFT [4]</text><text style=\"font-family: STIXMathJax_Main-Italic; font-size: 10px;\" x=\"351\" y=\"80\">†</text><line stroke=\"rgb(0,0,0)\" x1=\"390\" x2=\"390\" y1=\"160\" y2=\"32\" /><circle cx=\"390\" cy=\"32\" fill=\"black\" r=\"4\" /><g><circle cx=\"390\" cy=\"160\" fill=\"white\" r=\"8\" stroke=\"black\" stroke-width=\"1\" /><line stroke=\"rgb(0,0,0)\" x1=\"382\" x2=\"398\" y1=\"160\" y2=\"160\" /><line stroke=\"rgb(0,0,0)\" x1=\"390\" x2=\"390\" y1=\"152\" y2=\"168\" /></g><rect fill=\"white\" height=\"120\" stroke=\"black\" stroke-width=\"2\" width=\"72\" x=\"416\" y=\"20\" /><text style=\"font-family: STIXMathJax_Main-Italic; font-size: 16px;\" x=\"424\" y=\"85\">QFT [4]</text><line stroke=\"rgb(0,0,0)\" x1=\"546\" x2=\"546\" y1=\"80\" y2=\"160\" /><circle cx=\"546\" cy=\"160\" fill=\"black\" r=\"4\" /><rect fill=\"white\" height=\"120\" stroke=\"black\" stroke-width=\"2\" width=\"96\" x=\"498\" y=\"20\" /><text style=\"font-family: STIXMathJax_Main-Italic; font-size: 16px;\" x=\"506\" y=\"85\">ADD [4, ...]</text><rect fill=\"white\" height=\"120\" stroke=\"black\" stroke-width=\"2\" width=\"106\" x=\"604\" y=\"20\" /><text style=\"font-family: STIXMathJax_Main-Italic; font-size: 16px;\" x=\"612\" y=\"85\">ADD [4, ...]</text><text style=\"font-family: STIXMathJax_Main-Italic; font-size: 10px;\" x=\"697\" y=\"80\">†</text><rect fill=\"white\" height=\"120\" stroke=\"black\" stroke-width=\"2\" width=\"82\" x=\"720\" y=\"20\" /><text style=\"font-family: STIXMathJax_Main-Italic; font-size: 16px;\" x=\"728\" y=\"85\">QFT [4]</text><text style=\"font-family: STIXMathJax_Main-Italic; font-size: 10px;\" x=\"789\" y=\"80\">†</text><rect fill=\"white\" height=\"24\" stroke=\"black\" stroke-width=\"2\" width=\"28\" x=\"812\" y=\"20\" /><text style=\"font-family: STIXMathJax_Main-Italic; font-size: 16px;\" x=\"820\" y=\"37\">X</text><line stroke=\"rgb(0,0,0)\" x1=\"866\" x2=\"866\" y1=\"160\" y2=\"32\" /><circle cx=\"866\" cy=\"32\" fill=\"black\" r=\"4\" /><g><circle cx=\"866\" cy=\"160\" fill=\"white\" r=\"8\" stroke=\"black\" stroke-width=\"1\" /><line stroke=\"rgb(0,0,0)\" x1=\"858\" x2=\"874\" y1=\"160\" y2=\"160\" /><line stroke=\"rgb(0,0,0)\" x1=\"866\" x2=\"866\" y1=\"152\" y2=\"168\" /></g><rect fill=\"white\" height=\"24\" stroke=\"black\" stroke-width=\"2\" width=\"28\" x=\"892\" y=\"20\" /><text style=\"font-family: STIXMathJax_Main-Italic; font-size: 16px;\" x=\"900\" y=\"37\">X</text><rect fill=\"white\" height=\"120\" stroke=\"black\" stroke-width=\"2\" width=\"72\" x=\"930\" y=\"20\" /><text style=\"font-family: STIXMathJax_Main-Italic; font-size: 16px;\" x=\"938\" y=\"85\">QFT [4]</text><rect fill=\"white\" height=\"120\" stroke=\"black\" stroke-width=\"2\" width=\"96\" x=\"1012\" y=\"20\" /><text style=\"font-family: STIXMathJax_Main-Italic; font-size: 16px;\" x=\"1020\" y=\"85\">ADD [4, ...]</text></svg>"
      ],
      "text/plain": [
       "<IPython.core.display.HTML object>"
      ]
     },
     "execution_count": 7,
     "metadata": {},
     "output_type": "execute_result"
    }
   ],
   "source": [
    "gate = addmod_g(4, numbin(7, 4), numbin(21, 4))\n",
    "%qatdisplay gate --depth 1 --svg"
   ]
  },
  {
   "cell_type": "markdown",
   "id": "Eml6NMT9Yuvq",
   "metadata": {
    "id": "Eml6NMT9Yuvq"
   },
   "source": [
    "This gate works according to the following logic:\n",
    "* The input will be the quantum Fourier transform of the number $b$ ( $\\phi(b)$ ), and its output will be $\\phi(b+a) mod(N)$.\n",
    "* Its parameters will be $a$ and $N$ in binary. The number $b$ must have an extra bit to avoid overflow and to be able to know which is the sign of intermediate counts.\n",
    "* First we add $a$ having $\\phi(b+a)$ and we proceed to subtract $N$ with the inverse (dagger) of $\\phi ADD(N)$, obtaining $\\phi(b+a-N)$.\n",
    "* Now, after this last operation there is the possibility that the number obtained is negative, if $a+b\\leq N$, so we will look at the most significant bit (the 0), for which we will first have to invert the QFT.\n",
    "* As we need to use that bit later, we store it in a ring with a CNOT gate and redo the QFT to continue operating.\n",
    "* Once this is done, if our number was negative, we need to undo the subtraction of $N$, as we do not want negative numbers, so using the ring where we put the sign information, we will apply the addition of $N$ in a way controlled by this qbit."
   ]
  },
  {
   "cell_type": "markdown",
   "id": "5w5iP2rBcGHy",
   "metadata": {
    "id": "5w5iP2rBcGHy"
   },
   "source": [
    "* In principle we already have $\\phi(b+a) mod(N)$, but we need to restore the ancilla, so we need to know if we have subtracted $N$ before.\n",
    "* To do this we will subtract $a$ and undo the QFT, which will give us the number $(a+b)mod N-a$ from which we will get the sign, but inverted. This is because we use the identity: $(a+b)mod(N)\\geq a \\rightarrow (a+b)mod(N)- a \\Longleftrightarrow a + b < N$. Therefore, if the number obtained is positive, it will be because we obtained a negative number before.\n",
    "* Therefore, we apply an X on that qbit, CNOT from that qbit to the ancilla, undo the X, go back to QFT and add back the $a$ we had subtracted."
   ]
  },
  {
   "cell_type": "markdown",
   "id": "1c5d4c8c-6660-429a-9b75-706d7a1b521c",
   "metadata": {
    "id": "1c5d4c8c-6660-429a-9b75-706d7a1b521c"
   },
   "source": [
    "## CMULT"
   ]
  },
  {
   "cell_type": "markdown",
   "id": "_DTP92hKecJb",
   "metadata": {
    "id": "_DTP92hKecJb"
   },
   "source": [
    "The third gate that we are going to implement is the gate $\\phi CMULT(a)mod(N)$, which transforms  $|x\\rangle|\\phi(b)\\rangle$  into  $|x\\rangle|\\phi(b+a\\cdot x)mod(N)\\rangle$."
   ]
  },
  {
   "cell_type": "code",
   "execution_count": 6,
   "id": "13cbcb21-b886-4f2a-93d3-14ac80d9831e",
   "metadata": {
    "id": "13cbcb21-b886-4f2a-93d3-14ac80d9831e"
   },
   "outputs": [],
   "source": [
    "@build_gate('CMULT', [int, str, str], arity=lambda n, a, N: 2*n )\n",
    "def cmult_g(n, a, N):\n",
    "    '''Implementation of the phiCMULT(a)mod(N) gate with n qbits.\n",
    "    b -> (b+a*x)mod(N)\n",
    "    a and N are the binary of the number to implement.\n",
    "    Enter X first and then b'''\n",
    "    #-------------------------------------\n",
    "    routine = QRoutine()\n",
    "    #-------------------------------------\n",
    "    x = routine.new_wires(n)#Input x (first).\n",
    "    b = routine.new_wires(n)#Input b (second).\n",
    "    \n",
    "    #-------------------------------------\n",
    "    #Transform, set of sums, Antitransform.\n",
    "    routine.apply(qftarith.QFT(n), b)\n",
    "    #We start at 0 (most significant) and work our way down.\n",
    "    for i in range(0, n):#Control.\n",
    "        for j in range(0, int(2**i)):#Number of applications.\n",
    "            routine.apply( addmod_g(n, a, N).ctrl(), x[-i-1], b )\n",
    "    routine.apply(qftarith.QFT(n).dag(), b)\n",
    "    \n",
    "    return routine"
   ]
  },
  {
   "cell_type": "code",
   "execution_count": 9,
   "id": "HJE6cwFfe3uc",
   "metadata": {
    "id": "HJE6cwFfe3uc"
   },
   "outputs": [
    {
     "data": {
      "text/html": [
       "<svg baseProfile=\"full\" height=\"400\" version=\"1.1\" viewBox=\"0 0 1180 325\" width=\"1200\" xmlns=\"http://www.w3.org/2000/svg\" xmlns:ev=\"http://www.w3.org/2001/xml-events\" xmlns:xlink=\"http://www.w3.org/1999/xlink\"><defs><style type=\"text/css\"><![CDATA[@font-face{ \n",
       "    font-family: \"STIXMathJax_Main-Italic\"; \n",
       "    src: url(\"data:application/x-font-opentype;charset=utf-8;base64,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\"); \n",
       "}\n",
       "]]></style></defs><text style=\"font-family: STIXMathJax_Main-Italic; font-size: 16px;\" x=\"10\" y=\"37\">Q0</text><line stroke=\"rgb(0,0,0)\" x1=\"50\" x2=\"1180\" y1=\"32\" y2=\"32\" /><text style=\"font-family: STIXMathJax_Main-Italic; font-size: 16px;\" x=\"10\" y=\"69\">Q1</text><line stroke=\"rgb(0,0,0)\" x1=\"50\" x2=\"1180\" y1=\"64\" y2=\"64\" /><text style=\"font-family: STIXMathJax_Main-Italic; font-size: 16px;\" x=\"10\" y=\"101\">Q2</text><line stroke=\"rgb(0,0,0)\" x1=\"50\" x2=\"1180\" y1=\"96\" y2=\"96\" /><text style=\"font-family: STIXMathJax_Main-Italic; font-size: 16px;\" x=\"10\" y=\"133\">Q3</text><line stroke=\"rgb(0,0,0)\" x1=\"50\" x2=\"1180\" y1=\"128\" y2=\"128\" /><text style=\"font-family: STIXMathJax_Main-Italic; font-size: 16px;\" x=\"10\" y=\"165\">Q4</text><line stroke=\"rgb(0,0,0)\" x1=\"50\" x2=\"1180\" y1=\"160\" y2=\"160\" /><text style=\"font-family: STIXMathJax_Main-Italic; font-size: 16px;\" x=\"10\" y=\"197\">Q5</text><line stroke=\"rgb(0,0,0)\" x1=\"50\" x2=\"1180\" y1=\"192\" y2=\"192\" /><text style=\"font-family: STIXMathJax_Main-Italic; font-size: 16px;\" x=\"10\" y=\"229\">Q6</text><line stroke=\"rgb(0,0,0)\" x1=\"50\" x2=\"1180\" y1=\"224\" y2=\"224\" /><rect fill=\"white\" height=\"88\" stroke=\"black\" stroke-width=\"2\" width=\"72\" x=\"60\" y=\"116\" /><text style=\"font-family: STIXMathJax_Main-Italic; font-size: 16px;\" x=\"68\" y=\"165\">QFT [3]</text><line stroke=\"rgb(0,0,0)\" x1=\"204\" x2=\"204\" y1=\"160\" y2=\"96\" /><circle cx=\"204\" cy=\"96\" fill=\"black\" r=\"4\" /><rect fill=\"white\" height=\"88\" stroke=\"black\" stroke-width=\"2\" width=\"124\" x=\"142\" y=\"116\" /><text style=\"font-family: STIXMathJax_Main-Italic; font-size: 16px;\" x=\"150\" y=\"165\">ADDmod [3, ...]</text><line stroke=\"rgb(0,0,0)\" x1=\"338\" x2=\"338\" y1=\"160\" y2=\"64\" /><circle cx=\"338\" cy=\"64\" fill=\"black\" r=\"4\" /><rect fill=\"white\" height=\"88\" stroke=\"black\" stroke-width=\"2\" width=\"124\" x=\"276\" y=\"116\" /><text style=\"font-family: STIXMathJax_Main-Italic; font-size: 16px;\" x=\"284\" y=\"165\">ADDmod [3, ...]</text><line stroke=\"rgb(0,0,0)\" x1=\"472\" x2=\"472\" y1=\"160\" y2=\"64\" /><circle cx=\"472\" cy=\"64\" fill=\"black\" r=\"4\" /><rect fill=\"white\" height=\"88\" stroke=\"black\" stroke-width=\"2\" width=\"124\" x=\"410\" y=\"116\" /><text style=\"font-family: STIXMathJax_Main-Italic; font-size: 16px;\" x=\"418\" y=\"165\">ADDmod [3, ...]</text><line stroke=\"rgb(0,0,0)\" x1=\"606\" x2=\"606\" y1=\"160\" y2=\"32\" /><circle cx=\"606\" cy=\"32\" fill=\"black\" r=\"4\" /><rect fill=\"white\" height=\"88\" stroke=\"black\" stroke-width=\"2\" width=\"124\" x=\"544\" y=\"116\" /><text style=\"font-family: STIXMathJax_Main-Italic; font-size: 16px;\" x=\"552\" y=\"165\">ADDmod [3, ...]</text><line stroke=\"rgb(0,0,0)\" x1=\"740\" x2=\"740\" y1=\"160\" y2=\"32\" /><circle cx=\"740\" cy=\"32\" fill=\"black\" r=\"4\" /><rect fill=\"white\" height=\"88\" stroke=\"black\" stroke-width=\"2\" width=\"124\" x=\"678\" y=\"116\" /><text style=\"font-family: STIXMathJax_Main-Italic; font-size: 16px;\" x=\"686\" y=\"165\">ADDmod [3, ...]</text><line stroke=\"rgb(0,0,0)\" x1=\"874\" x2=\"874\" y1=\"160\" y2=\"32\" /><circle cx=\"874\" cy=\"32\" fill=\"black\" r=\"4\" /><rect fill=\"white\" height=\"88\" stroke=\"black\" stroke-width=\"2\" width=\"124\" x=\"812\" y=\"116\" /><text style=\"font-family: STIXMathJax_Main-Italic; font-size: 16px;\" x=\"820\" y=\"165\">ADDmod [3, ...]</text><line stroke=\"rgb(0,0,0)\" x1=\"1008\" x2=\"1008\" y1=\"160\" y2=\"32\" /><circle cx=\"1008\" cy=\"32\" fill=\"black\" r=\"4\" /><rect fill=\"white\" height=\"88\" stroke=\"black\" stroke-width=\"2\" width=\"124\" x=\"946\" y=\"116\" /><text style=\"font-family: STIXMathJax_Main-Italic; font-size: 16px;\" x=\"954\" y=\"165\">ADDmod [3, ...]</text><rect fill=\"white\" height=\"88\" stroke=\"black\" stroke-width=\"2\" width=\"82\" x=\"1080\" y=\"116\" /><text style=\"font-family: STIXMathJax_Main-Italic; font-size: 16px;\" x=\"1088\" y=\"165\">QFT [3]</text><text style=\"font-family: STIXMathJax_Main-Italic; font-size: 10px;\" x=\"1149\" y=\"160\">†</text></svg>"
      ],
      "text/plain": [
       "<IPython.core.display.HTML object>"
      ]
     },
     "execution_count": 9,
     "metadata": {},
     "output_type": "execute_result"
    }
   ],
   "source": [
    "gate = cmult_g(3, numbin(3, 3), numbin(2, 3))\n",
    "%qatdisplay gate --depth 1 --svg"
   ]
  },
  {
   "cell_type": "markdown",
   "id": "LdjCt7Cqe6e1",
   "metadata": {
    "id": "LdjCt7Cqe6e1"
   },
   "source": [
    "This gate operates as follows:\n",
    "* Its goal is to convert $b$ into $(b+a0dot x)mod(N)$, having as inputs $|xrangle$ and $|brangle$ and parameters $a$ and $N$ in binary form. It is important that $|x\\rangle$ has the same number of qbits as $|brangle$, because of the following gate.\n",
    "* The first thing we do is to transform the number $b$ into its QFT form. After that, we apply $\\phi ADD(2^j a)mod(N)$ gates on $|\\phi(b)\\rangle$ controlled by the qbits $|x_{n-1-j}\\rangle$. The $\\phi ADD(2^j a)mod(N)$ gate means applying $2^j$ times the $\\phi ADD(a)mod(N)$ gate.\n",
    "* This step is exactly the same as the usual multiplication with binary numbers.\n",
    "* After that we undo the QFT and we have our result.\n",
    "\n",
    "Recall that we use the input numbers in standard space only in this gate, while the ones inside it use the numbers in transformed space. This is because if we were to introduce the QFTs into these gates as well, we would have something of the form:\n",
    "\n",
    "$QFT-ADD-QFT_{inv}-QFT-ADD-QFT_{inv}-\\dots-QFT-ADD-QFT_{inv}-QFT-ADD-QFT_{inv}$,\n",
    "\n",
    "where obviously the QFTs disappear with their inverses, so we can save all those gates."
   ]
  },
  {
   "cell_type": "markdown",
   "id": "8fa8f55e-d959-4386-90d8-c094133e911b",
   "metadata": {
    "id": "8fa8f55e-d959-4386-90d8-c094133e911b"
   },
   "source": [
    "## Ua"
   ]
  },
  {
   "cell_type": "markdown",
   "id": "ISKmPgOug3q0",
   "metadata": {
    "id": "ISKmPgOug3q0"
   },
   "source": [
    "Finally, we implemented the general gate $U_a$ that converts us $|x\\rangle$ into $|(a\\cdot x)mod(N)\\rangle$."
   ]
  },
  {
   "cell_type": "code",
   "execution_count": 11,
   "id": "a185545a-f15d-44e2-a279-6a8bf5781826",
   "metadata": {
    "id": "a185545a-f15d-44e2-a279-6a8bf5781826"
   },
   "outputs": [],
   "source": [
    "@build_gate('U', [int, int, int], arity=lambda n, a, N: n)\n",
    "def ua_g(n, a, N):\n",
    "    '''Implementation of the phiCMULT(a)mod(N) gate with n qbits.\n",
    "    x -> (a*x)mod(N)\n",
    "    a and n are integers.'''\n",
    "    #-------------------------------------\n",
    "    #We prepare the parameters and the binaries.\n",
    "    abin = numbin(a, n)\n",
    "    ainv = numbin(m_inv(a, N), n)#a inverse modulo N\n",
    "    Nbin = numbin(N, n)\n",
    "    \n",
    "    #-------------------------------------\n",
    "    routine = QRoutine()\n",
    "    #-------------------------------------\n",
    "    x  = routine.new_wires(n)#Input line.\n",
    "    a0 = routine.new_wires(n); routine.set_ancillae(a0)#Ancillas in 0.\n",
    "    \n",
    "    #-------------------------------------\n",
    "    #We apply the algorithm:\n",
    "    #Multiply, swap, divide.\n",
    "    routine.apply(cmult_g(n, abin, Nbin), x+a0)\n",
    "    for i in range(n): routine.apply(SWAP, x[i], a0[i])\n",
    "    routine.apply(cmult_g(n, ainv, Nbin).dag(), x+a0)\n",
    "    \n",
    "    return routine"
   ]
  },
  {
   "cell_type": "code",
   "execution_count": 17,
   "id": "Nx-PK9q7hcjD",
   "metadata": {
    "id": "Nx-PK9q7hcjD"
   },
   "outputs": [
    {
     "data": {
      "text/html": [
       "<svg baseProfile=\"full\" height=\"400\" version=\"1.1\" viewBox=\"0 0 508 453\" width=\"1200\" xmlns=\"http://www.w3.org/2000/svg\" xmlns:ev=\"http://www.w3.org/2001/xml-events\" xmlns:xlink=\"http://www.w3.org/1999/xlink\"><defs><style type=\"text/css\"><![CDATA[@font-face{ \n",
       "    font-family: \"STIXMathJax_Main-Italic\"; \n",
       "    src: url(\"data:application/x-font-opentype;charset=utf-8;base64,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\"); \n",
       "}\n",
       "]]></style></defs><text style=\"font-family: STIXMathJax_Main-Italic; font-size: 16px;\" x=\"10\" y=\"37\">Q0</text><line stroke=\"rgb(0,0,0)\" x1=\"50\" x2=\"508\" y1=\"32\" y2=\"32\" /><text style=\"font-family: STIXMathJax_Main-Italic; font-size: 16px;\" x=\"10\" y=\"69\">Q1</text><line stroke=\"rgb(0,0,0)\" x1=\"50\" x2=\"508\" y1=\"64\" y2=\"64\" /><text style=\"font-family: STIXMathJax_Main-Italic; font-size: 16px;\" x=\"10\" y=\"101\">Q2</text><line stroke=\"rgb(0,0,0)\" x1=\"50\" x2=\"508\" y1=\"96\" y2=\"96\" /><text style=\"font-family: STIXMathJax_Main-Italic; font-size: 16px;\" x=\"10\" y=\"133\">Q3</text><line stroke=\"rgb(0,0,0)\" x1=\"50\" x2=\"508\" y1=\"128\" y2=\"128\" /><text style=\"font-family: STIXMathJax_Main-Italic; font-size: 16px;\" x=\"10\" y=\"165\">Q4</text><line stroke=\"rgb(0,0,0)\" x1=\"50\" x2=\"508\" y1=\"160\" y2=\"160\" /><text style=\"font-family: STIXMathJax_Main-Italic; font-size: 16px;\" x=\"10\" y=\"197\">Q5</text><line stroke=\"rgb(0,0,0)\" x1=\"50\" x2=\"508\" y1=\"192\" y2=\"192\" /><text style=\"font-family: STIXMathJax_Main-Italic; font-size: 16px;\" x=\"10\" y=\"229\">Q6</text><line stroke=\"rgb(0,0,0)\" x1=\"50\" x2=\"508\" y1=\"224\" y2=\"224\" /><text style=\"font-family: STIXMathJax_Main-Italic; font-size: 16px;\" x=\"10\" y=\"261\">Q7</text><line stroke=\"rgb(0,0,0)\" x1=\"50\" x2=\"508\" y1=\"256\" y2=\"256\" /><text style=\"font-family: STIXMathJax_Main-Italic; font-size: 16px;\" x=\"10\" y=\"293\">Q8</text><line stroke=\"rgb(0,0,0)\" x1=\"50\" x2=\"508\" y1=\"288\" y2=\"288\" /><text style=\"font-family: STIXMathJax_Main-Italic; font-size: 16px;\" x=\"10\" y=\"325\">Q9</text><line stroke=\"rgb(0,0,0)\" x1=\"50\" x2=\"508\" y1=\"320\" y2=\"320\" /><text style=\"font-family: STIXMathJax_Main-Italic; font-size: 16px;\" x=\"10\" y=\"357\">Q10</text><line stroke=\"rgb(0,0,0)\" x1=\"50\" x2=\"508\" y1=\"352\" y2=\"352\" /><rect fill=\"white\" height=\"312\" stroke=\"black\" stroke-width=\"2\" width=\"115\" x=\"60\" y=\"20\" /><text style=\"font-family: STIXMathJax_Main-Italic; font-size: 16px;\" x=\"68\" y=\"181\">CMULT [5, ...]</text><line stroke=\"rgb(0,0,0)\" x1=\"198\" x2=\"198\" y1=\"192\" y2=\"32\" /><g><line stroke=\"rgb(0,0,0)\" x1=\"193\" x2=\"203\" y1=\"27\" y2=\"37\" /><line stroke=\"rgb(0,0,0)\" x1=\"193\" x2=\"203\" y1=\"37\" y2=\"27\" /></g><g><line stroke=\"rgb(0,0,0)\" x1=\"193\" x2=\"203\" y1=\"187\" y2=\"197\" /><line stroke=\"rgb(0,0,0)\" x1=\"193\" x2=\"203\" y1=\"197\" y2=\"187\" /></g><line stroke=\"rgb(0,0,0)\" x1=\"234\" x2=\"234\" y1=\"224\" y2=\"64\" /><g><line stroke=\"rgb(0,0,0)\" x1=\"229\" x2=\"239\" y1=\"59\" y2=\"69\" /><line stroke=\"rgb(0,0,0)\" x1=\"229\" x2=\"239\" y1=\"69\" y2=\"59\" /></g><g><line stroke=\"rgb(0,0,0)\" x1=\"229\" x2=\"239\" y1=\"219\" y2=\"229\" /><line stroke=\"rgb(0,0,0)\" x1=\"229\" x2=\"239\" y1=\"229\" y2=\"219\" /></g><line stroke=\"rgb(0,0,0)\" x1=\"270\" x2=\"270\" y1=\"256\" y2=\"96\" /><g><line stroke=\"rgb(0,0,0)\" x1=\"265\" x2=\"275\" y1=\"91\" y2=\"101\" /><line stroke=\"rgb(0,0,0)\" x1=\"265\" x2=\"275\" y1=\"101\" y2=\"91\" /></g><g><line stroke=\"rgb(0,0,0)\" x1=\"265\" x2=\"275\" y1=\"251\" y2=\"261\" /><line stroke=\"rgb(0,0,0)\" x1=\"265\" x2=\"275\" y1=\"261\" y2=\"251\" /></g><line stroke=\"rgb(0,0,0)\" x1=\"306\" x2=\"306\" y1=\"288\" y2=\"128\" /><g><line stroke=\"rgb(0,0,0)\" x1=\"301\" x2=\"311\" y1=\"123\" y2=\"133\" /><line stroke=\"rgb(0,0,0)\" x1=\"301\" x2=\"311\" y1=\"133\" y2=\"123\" /></g><g><line stroke=\"rgb(0,0,0)\" x1=\"301\" x2=\"311\" y1=\"283\" y2=\"293\" /><line stroke=\"rgb(0,0,0)\" x1=\"301\" x2=\"311\" y1=\"293\" y2=\"283\" /></g><line stroke=\"rgb(0,0,0)\" x1=\"342\" x2=\"342\" y1=\"320\" y2=\"160\" /><g><line stroke=\"rgb(0,0,0)\" x1=\"337\" x2=\"347\" y1=\"155\" y2=\"165\" /><line stroke=\"rgb(0,0,0)\" x1=\"337\" x2=\"347\" y1=\"165\" y2=\"155\" /></g><g><line stroke=\"rgb(0,0,0)\" x1=\"337\" x2=\"347\" y1=\"315\" y2=\"325\" /><line stroke=\"rgb(0,0,0)\" x1=\"337\" x2=\"347\" y1=\"325\" y2=\"315\" /></g><rect fill=\"white\" height=\"312\" stroke=\"black\" stroke-width=\"2\" width=\"125\" x=\"365\" y=\"20\" /><text style=\"font-family: STIXMathJax_Main-Italic; font-size: 16px;\" x=\"373\" y=\"181\">CMULT [5, ...]</text><text style=\"font-family: STIXMathJax_Main-Italic; font-size: 10px;\" x=\"477\" y=\"176\">†</text></svg>"
      ],
      "text/plain": [
       "<IPython.core.display.HTML object>"
      ]
     },
     "execution_count": 17,
     "metadata": {},
     "output_type": "execute_result"
    }
   ],
   "source": [
    "gate = ua_g(5, 7, 15)\n",
    "%qatdisplay gate --depth 1 --svg"
   ]
  },
  {
   "cell_type": "markdown",
   "id": "sdTgR82dhb_z",
   "metadata": {
    "id": "sdTgR82dhb_z"
   },
   "source": [
    "This Shor gate works as follows:\n",
    "* This gate implements going from $x$ to $(a\\cdot x)mod(N)$. Its input is the vector $|x\\rangle$  and the parameters $a$ and $N$ in integer.\n",
    "* We are going to use a ring initialised to 0 for the lower part of the multiplication (so the factor obtained will only be multiplied and will not have an addition).\n",
    "* First we do the multiplication by a, obtaining $|x\\rangle|(a\\cdot x)mod(N)\\rangle$.\n",
    "* Since we don't want anything in the ancilla, we apply a SWAP between the ancilla and the main line, obtaining $|(a\\cdot x)mod(N)\\rangle|x\\rangle$.\n",
    "* Now we multiply by the inverse modulo $N$ of $a$ ($a^{-1}$) having $|(a\\cdot x)\\rangle|(x- a^{-1}a\\cdot x)mod(N)\\rangle = |(a\\cdot x)mod(N)\\rangle|0\\rangle$, which is what we wanted."
   ]
  },
  {
   "cell_type": "markdown",
   "id": "3844b6b9-badc-47db-ab56-b7593f3b8023",
   "metadata": {
    "id": "3844b6b9-badc-47db-ab56-b7593f3b8023"
   },
   "source": [
    "---\n",
    "# Shor's Algorithm."
   ]
  },
  {
   "cell_type": "markdown",
   "id": "767852cf-58e0-4b72-9176-2be740d8a840",
   "metadata": {
    "id": "767852cf-58e0-4b72-9176-2be740d8a840",
    "tags": []
   },
   "source": [
    "Now that we have the gates implemented, we can perform Shor's algorithm. For this we will use the modules of the QQuantLib library.\n",
    "\n",
    "The first thing we will have to do is to determine the values of the parameters $a$ and $N$ that we will have to use. We can use the ones we have or we can put 2 primes $q$ and $p$ and the following function already looks for a suitable $N$ and $a$."
   ]
  },
  {
   "cell_type": "code",
   "execution_count": 8,
   "id": "7441f119-5618-46f9-b794-ceaa73b81e6d",
   "metadata": {
    "id": "7441f119-5618-46f9-b794-ceaa73b81e6d"
   },
   "outputs": [],
   "source": [
    "def primador(p, q, itmax = 100, used_a = []):\n",
    "    '''Function that implements the creation of a number N from 2 primes\n",
    "    and gives us a valid number a for the algorithm.\n",
    "    itmax is the number of iterations allowed to search for this a.'''\n",
    "    N   = p * q\n",
    "    ver = True; itera = 0      #Check that the greatest common divisor of a and N is 1.\n",
    "    while ver and itera<itmax:\n",
    "        a  = np.random.randint(2, N)#Random integer between 2 and N.\n",
    "        cd = np.gcd(a, N)\n",
    "        if cd == 1 and (a not in used_a): ver = False\n",
    "        itera += 1#Iteration counter.\n",
    "    if ver == True: print('No valid a has been found.')\n",
    "    return a, N\n",
    "\n",
    "def reductor(num, den):\n",
    "    '''This function implements the obtaining of \n",
    "    the irreducible fraction of a number.\n",
    "    The input number is to be a fraction num/den.\n",
    "    Both parameters are integers.\n",
    "    It is based on dividing by all possible values.'''\n",
    "    for i in range(num, 0, -1):\n",
    "        if num % i == 0 and den % i == 0:\n",
    "            num /= i; den /= i\n",
    "    return int(num), int(den)"
   ]
  },
  {
   "cell_type": "code",
   "execution_count": 14,
   "id": "29f82793-5fb2-4312-8a21-57e272676237",
   "metadata": {
    "colab": {
     "base_uri": "https://localhost:8080/"
    },
    "id": "29f82793-5fb2-4312-8a21-57e272676237",
    "outputId": "217d2eb4-40b3-48c8-dac5-7f9a264abd74"
   },
   "outputs": [
    {
     "name": "stdout",
     "output_type": "stream",
     "text": [
      "a =  7 , N =  15\n"
     ]
    }
   ],
   "source": [
    "#Prime numbers to build N.\n",
    "p = 3\n",
    "q = 7\n",
    "\n",
    "#-------------------------------------\n",
    "#Run the function or enter them by hand.\n",
    "a, N = primador(p, q)\n",
    "a = 7; N = 15; p = 3; q = 5\n",
    "print('a = ', a, ', N = ', N)\n",
    "#We determine the number of qbits.\n",
    "n = 1 + int(np.floor(np.log2(N))); n +=1\n",
    "n_cbits = n #Same for the classics."
   ]
  },
  {
   "cell_type": "markdown",
   "id": "7f04aef3-e72c-47d8-98f1-4cce76be02fd",
   "metadata": {
    "id": "7f04aef3-e72c-47d8-98f1-4cce76be02fd"
   },
   "source": [
    "We create the initial conditions and the gate with our parameters.\n",
    "\n",
    "We initialise $|x\\rangle$ to 1 (00...001)."
   ]
  },
  {
   "cell_type": "code",
   "execution_count": 15,
   "id": "232a391f-ca23-47b8-8f8c-627b6916d0f6",
   "metadata": {
    "id": "232a391f-ca23-47b8-8f8c-627b6916d0f6"
   },
   "outputs": [],
   "source": [
    "#Our Gate of Shor.\n",
    "unitary_operator = ua_g(n, a, N)\n",
    "#-------------------------------------\n",
    "#Initial state.\n",
    "initial_state = QRoutine()\n",
    "x = initial_state.new_wires(n)\n",
    "initial_state.apply(X, x[-1])#State 1."
   ]
  },
  {
   "cell_type": "markdown",
   "id": "4d0e909f-d6ad-4f12-ad25-0742a7ae2d29",
   "metadata": {
    "id": "4d0e909f-d6ad-4f12-ad25-0742a7ae2d29"
   },
   "source": [
    "We configure the method we are going to use."
   ]
  },
  {
   "cell_type": "code",
   "execution_count": 16,
   "id": "b49fbd0a-b450-485c-a97b-909ba7dc5b9e",
   "metadata": {
    "id": "b49fbd0a-b450-485c-a97b-909ba7dc5b9e"
   },
   "outputs": [],
   "source": [
    "#Python dictionary for configuration.\n",
    "config_dict = {\n",
    "    'initial_state': initial_state,\n",
    "    'unitary_operator': unitary_operator,\n",
    "    'qpu' : linalg_qpu,\n",
    "    'auxiliar_qbits_number' : n_cbits,  \n",
    "    'shots': 100\n",
    "}"
   ]
  },
  {
   "cell_type": "markdown",
   "id": "bcfbfd55-a676-401d-bc56-c960e4b1779a",
   "metadata": {
    "id": "bcfbfd55-a676-401d-bc56-c960e4b1779a"
   },
   "source": [
    "---\n",
    "## Phase Estimation with QFT."
   ]
  },
  {
   "cell_type": "markdown",
   "id": "CLLVp6Tzl2Rh",
   "metadata": {
    "id": "CLLVp6Tzl2Rh"
   },
   "source": [
    "The first thing we can do is to use Phase Estimation with QFT.\n",
    "\n",
    "With this algorithm we need $3n_a$ qbits, because we need n for our initial state $|1rangle$ and 2n for the register.\n",
    "\n",
    "What we will do is introduce initialise the $2n_a$ register qbits with an H gate each, thus being in a superposition of $|0\\rangle$ and $|1\\rangle$. We then apply the $U_{a^{2^i}}$ gate controlled by the ith register qbit. This involves applying $2^i$ times the $U_{a}$ gate.\n",
    "\n",
    "Finally an inverse quantum Fourier transform is performed to recover in each register qbit a phase and thus obtain our result m when measuring.\n",
    "\n",
    "($n_a = n+1$)\n",
    "\n",
    "In total we will use $4n+3$ qbits."
   ]
  },
  {
   "cell_type": "markdown",
   "id": "2be35db3-45eb-4339-b724-bc82e36e5db6",
   "metadata": {
    "id": "2be35db3-45eb-4339-b724-bc82e36e5db6"
   },
   "source": [
    "We create the function and send it to execute."
   ]
  },
  {
   "cell_type": "code",
   "execution_count": 17,
   "id": "f897d97c-c5c4-4edd-855f-7be23ae443c9",
   "metadata": {
    "id": "f897d97c-c5c4-4edd-855f-7be23ae443c9",
    "outputId": "1e217e8d-9d09-4cd2-b669-41d723c4af22"
   },
   "outputs": [
    {
     "name": "stdout",
     "output_type": "stream",
     "text": [
      "Submitted a new batch: Job7653\n"
     ]
    }
   ],
   "source": [
    "qft_pe = PhaseEstimationwQFT(**config_dict)\n",
    "qft_pe.pe_wqft()#We send it to execute"
   ]
  },
  {
   "cell_type": "markdown",
   "id": "20064e62-03c7-45d1-bf00-821786e22d81",
   "metadata": {
    "id": "20064e62-03c7-45d1-bf00-821786e22d81"
   },
   "source": [
    "We obtain the list of results of the algorithm with the numbers obtained with a frequency greater than 0, these results will be $y$.\n",
    "\n",
    "We obtain $r$ as the denominator of the irreducible fraction of $\\frac{y}{2^n}$ and we apply that $p = gcd(a^{r/2} - 1, N)$ and $q = gcd(a^{r/2} + 1, N)$ and we check."
   ]
  },
  {
   "cell_type": "code",
   "execution_count": 30,
   "id": "fc976b82-51e7-47ca-8287-84167da7f3f9",
   "metadata": {
    "id": "fc976b82-51e7-47ca-8287-84167da7f3f9"
   },
   "outputs": [
    {
     "name": "stdout",
     "output_type": "stream",
     "text": [
      "r =  4\n",
      "Los primos son:  3 ,  5\n"
     ]
    }
   ],
   "source": [
    "Resultados = qft_pe.final_results.loc[qft_pe.final_results['Probability'] > 0]\n",
    "Valores = np.sort([ _ for _ in Resultados['Int'] ])#Only the integers from smallest to largest.\n",
    "\n",
    "for i in range(len(Valores)):#0 does not contribute.\n",
    "    if Valores[i] != 0:\n",
    "        r = reductor(Valores[i], 2**n)[1]#The denominator.\n",
    "        if r % 2 == 0:\n",
    "            if a**int(r/2) != -1 % N:\n",
    "                p_obt = np.gcd(a**int(r/2) - 1, N);   q_obt = np.gcd(a**int(r/2) + 1, N)\n",
    "                if (p == q_obt and q == p_obt) or (p == p_obt and q == q_obt):\n",
    "                    print('r = ', r)\n",
    "                    print('The primes are: ', p_obt, ', ', q_obt)\n",
    "                    break\n",
    "                else: print('Not satisfied. The primes obtained are: ', p_obt, q_obt)"
   ]
  },
  {
   "cell_type": "markdown",
   "id": "1d24aec9-223b-40e8-80f3-655c2878e4bc",
   "metadata": {
    "id": "1d24aec9-223b-40e8-80f3-655c2878e4bc"
   },
   "source": [
    "---\n",
    "## Iterative Quantum Phase Estimation. [3]"
   ]
  },
  {
   "cell_type": "markdown",
   "id": "e2vEXaA9qFl-",
   "metadata": {
    "id": "e2vEXaA9qFl-"
   },
   "source": [
    "Now we will use the Iterative Quantum Phase Estimation.\n",
    "\n",
    "In this algorithm we will only need $n_a+1$ qbits, because we will only use one qbit to encode the result by partial measurements.\n",
    "\n",
    "The procedure consists of the following:\n",
    "\n",
    "* We have our control qbit at 0, apply an H-gate to obtain a superposition and apply the gate in a controlled way as before.\n",
    "* The difference is that we now reapply the H-gate and make a partial measurement of the control qbit and store in a classical bit the result.\n",
    "* We now apply a gate X controlled by the previous result (stored in the classical bit) to return our control qbit to 0.\n",
    "* We repeat, do H and control the next gate (the same applied $2^i$ times), now do a phase rotation to return phase 0 to our state before applying H again and resetting the state with the controlled X.\n",
    "* The question is how to do this phase rotation. Basically we will apply a phase rotation gate that is 'controlled' (actually parameterised) by the classical registers of the previous measurements. So we can know how much the state has been rotated by applying the $U_a$ operator k times.\n",
    "* Thus, the value we will obtain in the classical register by means of the intermediate measurements will be the one we would obtain by means of the QPEwQFT."
   ]
  },
  {
   "cell_type": "markdown",
   "id": "c6753e1c-e7eb-454c-9564-49aae528203b",
   "metadata": {
    "id": "c6753e1c-e7eb-454c-9564-49aae528203b"
   },
   "source": [
    "We create the function and send it to execute."
   ]
  },
  {
   "cell_type": "code",
   "execution_count": 23,
   "id": "65a2ecb1-44ec-4d2e-a7bb-de04c07f5453",
   "metadata": {
    "id": "65a2ecb1-44ec-4d2e-a7bb-de04c07f5453",
    "outputId": "dfc04754-f036-4b63-d220-1aeb03b5a7a0"
   },
   "outputs": [
    {
     "name": "stdout",
     "output_type": "stream",
     "text": [
      "Submitted a new batch: Job7654\n"
     ]
    }
   ],
   "source": [
    "iqpe_ = IterativeQuantumPE(**config_dict)\n",
    "iqpe_.iqpe()"
   ]
  },
  {
   "cell_type": "markdown",
   "id": "afbf33bf-3787-429f-b244-01035bbcdf08",
   "metadata": {
    "id": "afbf33bf-3787-429f-b244-01035bbcdf08"
   },
   "source": [
    "We histogram the results with their corresponding frequencies."
   ]
  },
  {
   "cell_type": "code",
   "execution_count": 25,
   "id": "e752f15e-585c-4179-aef0-a3eaddecbb8a",
   "metadata": {
    "id": "e752f15e-585c-4179-aef0-a3eaddecbb8a",
    "outputId": "db0cfcc2-1b36-482a-c703-26ed75dab9aa"
   },
   "outputs": [
    {
     "data": {
      "image/png": "[encoded data removed]",
      "text/plain": [
       "<Figure size 432x288 with 1 Axes>"
      ]
     },
     "metadata": {
      "needs_background": "light"
     },
     "output_type": "display_data"
    }
   ],
   "source": [
    "plt.xlabel('Numero'); plt.ylabel('Frecuencia')\n",
    "plt.hist(iqpe_.final_results['BitInt'])\n",
    "plt.tight_layout(); plt.show()"
   ]
  },
  {
   "cell_type": "markdown",
   "id": "92bc0077-c2cb-426b-8671-04200d1cec5a",
   "metadata": {
    "id": "20064e62-03c7-45d1-bf00-821786e22d81"
   },
   "source": [
    "We obtain the list of results of the algorithm with the numbers obtained with a frequency greater than 0, these results will be $y$.\n",
    "\n",
    "We obtain $r$ as the denominator of the irreducible fraction of $\\frac{y}{2^{n+3}}$ and we apply that $p = gcd(a^{r/2} - 1, N)$ and $q = gcd(a^{r/2} + 1, N)$ and we check.\n",
    "The +3 comes because the values are multiplied by 8."
   ]
  },
  {
   "cell_type": "code",
   "execution_count": 33,
   "id": "5481f467-f9d2-4448-a760-620b83243ae3",
   "metadata": {
    "id": "5481f467-f9d2-4448-a760-620b83243ae3",
    "outputId": "f6d33a63-9eb3-4434-e23e-4ac85764aede"
   },
   "outputs": [
    {
     "name": "stdout",
     "output_type": "stream",
     "text": [
      "r =  4\n",
      "Los primos son:  3 ,  5\n"
     ]
    }
   ],
   "source": [
    "Resultados = iqpe_.sumarize(iqpe_.final_results, 'BitInt')\n",
    "Valores = np.sort([ _ for _ in Resultados['BitInt'] ])#Only the integers from smallest to largest.\n",
    "\n",
    "for i in range(len(Valores)):#0 does not contribute.\n",
    "    if Valores[i] != 0:\n",
    "        r = reductor(Valores[i], 2**(n+3))[1]#The denominator.\n",
    "        if r % 2 == 0:\n",
    "            if a**int(r/2) != -1 % N:\n",
    "                print('r = ', r)\n",
    "                p_obt = np.gcd(a**int(r/2) - 1, N);   q_obt = np.gcd(a**int(r/2) + 1, N)\n",
    "                if (p == q_obt and q == p_obt) or (p == p_obt and q == q_obt):\n",
    "                    print('The primes are: ', p_obt, ', ', q_obt)\n",
    "                    break\n",
    "                else: print('Not satisfied. The primes obtained are: ', p_obt, q_obt)"
   ]
  },
  {
   "cell_type": "markdown",
   "id": "5ac2bd0c-ec67-42fc-9008-95da406f6d37",
   "metadata": {},
   "source": [
    "## Executable function."
   ]
  },
  {
   "cell_type": "markdown",
   "id": "2ed39bc1-15cb-48d3-85bf-045dd9687c5c",
   "metadata": {},
   "source": [
    "To recapitulate, let's build a function that already implements the whole algorithm together. We will only have to give it the numbers p and q to form N."
   ]
  },
  {
   "cell_type": "code",
   "execution_count": 9,
   "id": "6b9b38a4-9252-4ff3-9fd8-a89c9de60431",
   "metadata": {},
   "outputs": [],
   "source": [
    "def Shor(p, q, shots = 8, method = 'QPE', used_a = []):\n",
    "    '''Function that implements all of Shor's algorithm for a given pair p, q of\n",
    "    given integer primes. You can change the number of shots.\n",
    "    method is the resolution method to use.\n",
    "    If we set QPE it will use quantum phase estimation with QFT.\n",
    "    If we put IQPE it will use the Iterative Quantum Phase Estimation.'''\n",
    "    \n",
    "    #-------------------------------------\n",
    "    a, N = primador(p, q, used_a = used_a)\n",
    "    print('a = ', a, ', N = ', N)\n",
    "    #We determine the number of qbits.\n",
    "    n = 2 + int(np.floor(np.log2(N)))\n",
    "    n_cbits = n #Same for the classics.\n",
    "    \n",
    "    #Our Gate of Shor.\n",
    "    unitary_operator = ua_g(n, a, N)\n",
    "    #-------------------------------------\n",
    "    #Initial state.\n",
    "    initial_state = QRoutine()\n",
    "    x = initial_state.new_wires(n)\n",
    "    initial_state.apply(X, x[-1])#State 1.\n",
    "    \n",
    "    \n",
    "    #Python dictionary for configuration.\n",
    "    config_dict = {\n",
    "    'initial_state': initial_state,\n",
    "    'unitary_operator': unitary_operator,\n",
    "    'qpu' : linalg_qpu,\n",
    "    'auxiliar_qbits_number' : n_cbits,  \n",
    "    'shots': shots\n",
    "    }\n",
    "    \n",
    "    if method == 'QPE':\n",
    "        qft_pe = PhaseEstimationwQFT(**config_dict)\n",
    "        qft_pe.pe_wqft()#We send it to execute\n",
    "        Resultados = qft_pe.final_results.loc[qft_pe.final_results['Probability'] > 0]\n",
    "        Valores    = np.sort([ _ for _ in Resultados['Int'] ])#Only the integers from smallest to largest.\n",
    "    \n",
    "    elif method == 'IQPE':\n",
    "        iqpe_ = IterativeQuantumPE(**config_dict)\n",
    "        iqpe_.iqpe()\n",
    "        Resultados = iqpe_.sumarize(iqpe_.final_results, 'BitInt')\n",
    "        Valores    = np.sort([ _ for _ in Resultados['BitInt'] ])#Only the integers from smallest to largest.\n",
    "    \n",
    "    check = 0\n",
    "    for i in range(len(Valores)):#0 does not contribute.\n",
    "        if Valores[i] != 0:\n",
    "            if method == 'QPE':  r = reductor(Valores[i], 2**n)[1]#The denominator.\n",
    "            if method == 'IQPE': r = reductor(Valores[i], 2**(n+3))[1]#The denominator.\n",
    "            if r % 2 == 0:\n",
    "                if a**int(r/2) != -1 % N:\n",
    "                    print('r = ', r)\n",
    "                    p_obt = np.gcd(int(a**int(r/2) - 1), N);   q_obt = np.gcd(int(a**int(r/2) + 1), N)\n",
    "                    if (p == q_obt and q == p_obt) or (p == p_obt and q == q_obt):\n",
    "                        print('The primes are: ', p_obt, ', ', q_obt)\n",
    "                        check = 1\n",
    "                    else: print('Not satisfied. The primes obtained are: ', p_obt, q_obt)\n",
    "    \n",
    "    if check == 0: p_obt = 0; q_obt = 0; print('None found.')\n",
    "        \n",
    "    return Valores, p_obt, q_obt, check, a\n",
    "        "
   ]
  },
  {
   "cell_type": "markdown",
   "id": "7f89fc73-8a8d-43d1-b907-a9828f80668d",
   "metadata": {},
   "source": [
    "We do some tests for different numbers."
   ]
  },
  {
   "cell_type": "code",
   "execution_count": 10,
   "id": "c5a6c92a-cd76-4ff5-bddb-9acea8493f77",
   "metadata": {},
   "outputs": [
    {
     "name": "stdout",
     "output_type": "stream",
     "text": [
      "a =  7 , N =  15\n",
      "Submitted a new batch: Job7742\n",
      "r =  4\n",
      "Los primos son:  3 ,  5\n",
      "r =  4\n",
      "Los primos son:  3 ,  5\n"
     ]
    }
   ],
   "source": [
    "Valores, p_obt, q_obt, check, a = Shor(3, 5, shots = 8, method = 'QPE', used_a =[1, 2,3,4,5,6,8,9,10,11,12,13,14,15])"
   ]
  },
  {
   "cell_type": "code",
   "execution_count": 41,
   "id": "85f8ca92-4bd9-48aa-a400-2e07a5442c8a",
   "metadata": {},
   "outputs": [
    {
     "name": "stdout",
     "output_type": "stream",
     "text": [
      "a =  2 , N =  21\n",
      "Submitted a new batch: Job7669\n",
      "r =  64\n",
      "No se cumple. Los primos obtenidos son:  3 1\n",
      "r =  2\n",
      "No se cumple. Los primos obtenidos son:  1 3\n",
      "Ninguno encontrado.\n",
      "a =  8 , N =  21\n",
      "Submitted a new batch: Job7670\n",
      "r =  2\n",
      "Los primos son:  7 ,  3\n"
     ]
    }
   ],
   "source": [
    "itera = 1; check = 0; it_max = 100\n",
    "used_a = []\n",
    "while check != 1 and itera < it_max:\n",
    "    Valores, p_obt, q_obt, check, a = Shor(3, 7, shots = 8, method = 'QPE', used_a = used_a)\n",
    "    used_a.append(a)\n",
    "    itera += 1"
   ]
  },
  {
   "cell_type": "code",
   "execution_count": 43,
   "id": "0bf3bae9-c44e-4e4f-9837-d3a4d5f066b7",
   "metadata": {},
   "outputs": [
    {
     "name": "stdout",
     "output_type": "stream",
     "text": [
      "a =  29 , N =  35\n",
      "Submitted a new batch: Job7678\n",
      "r =  2\n",
      "Los primos son:  7 ,  5\n"
     ]
    }
   ],
   "source": [
    "itera = 1; check = 0; it_max = 100\n",
    "used_a = [17, 31, 23, 3, 12, 34]\n",
    "while check != 1 and itera < it_max:\n",
    "    Valores, p_obt, q_obt, check, a = Shor(5, 7, shots = 8, method = 'QPE', used_a = used_a)\n",
    "    used_a.append(a)\n",
    "    itera += 1"
   ]
  },
  {
   "cell_type": "code",
   "execution_count": 14,
   "id": "e885e922-af6e-4bd4-90d7-b8d735568b99",
   "metadata": {},
   "outputs": [
    {
     "name": "stdout",
     "output_type": "stream",
     "text": [
      "a =  38 , N =  45\n",
      "Submitted a new batch: Job7691\n",
      "r =  128\n",
      "No se cumple. Los primos obtenidos son:  15 1\n",
      "r =  4\n",
      "No se cumple. Los primos obtenidos son:  3 5\n",
      "r =  64\n",
      "No se cumple. Los primos obtenidos son:  15 1\n",
      "Ninguno encontrado.\n",
      "a =  7 , N =  45\n",
      "Submitted a new batch: Job7692\n",
      "r =  128\n",
      "No se cumple. Los primos obtenidos son:  15 1\n",
      "r =  4\n",
      "No se cumple. Los primos obtenidos son:  3 5\n",
      "Ninguno encontrado.\n",
      "a =  44 , N =  45\n",
      "Submitted a new batch: Job7693\n",
      "Ninguno encontrado.\n",
      "a =  32 , N =  45\n",
      "Submitted a new batch: Job7694\n",
      "r =  128\n",
      "No se cumple. Los primos obtenidos son:  15 1\n",
      "r =  2\n",
      "No se cumple. Los primos obtenidos son:  1 3\n",
      "Ninguno encontrado.\n",
      "a =  19 , N =  45\n",
      "Submitted a new batch: Job7695\n",
      "r =  2\n",
      "Los primos son:  9 ,  5\n"
     ]
    }
   ],
   "source": [
    "itera = 1; check = 0; it_max = 100\n",
    "used_a = [17, 38, 7, 44, 32]\n",
    "while check != 1 and itera < it_max:\n",
    "    Valores, p_obt, q_obt, check, a = Shor(5, 9, shots = 8, method = 'QPE', used_a = used_a)\n",
    "    used_a.append(a)\n",
    "    itera += 1"
   ]
  },
  {
   "cell_type": "code",
   "execution_count": 15,
   "id": "ab777609-6a9a-4852-ab01-3a08b53ca49d",
   "metadata": {},
   "outputs": [
    {
     "name": "stdout",
     "output_type": "stream",
     "text": [
      "a =  10 , N =  33\n",
      "Submitted a new batch: Job7696\n",
      "r =  2\n",
      "Los primos son:  3 ,  11\n"
     ]
    }
   ],
   "source": [
    "itera = 1; check = 0; it_max = 100\n",
    "used_a = []\n",
    "while check != 1 and itera < it_max:\n",
    "    Valores, p_obt, q_obt, check, a = Shor(3, 11, shots = 8, method = 'QPE', used_a = used_a)\n",
    "    used_a.append(a)\n",
    "    itera += 1"
   ]
  },
  {
   "cell_type": "markdown",
   "id": "30725327-1ebb-413b-9f6e-e0a1c8e9e752",
   "metadata": {},
   "source": [
    "The algorithm works."
   ]
  },
  {
   "cell_type": "markdown",
   "id": "PF6zYb5d1YSU",
   "metadata": {
    "id": "PF6zYb5d1YSU"
   },
   "source": [
    "---\n",
    "# Conclusions."
   ]
  },
  {
   "cell_type": "markdown",
   "id": "Sq557qF91jRr",
   "metadata": {
    "id": "Sq557qF91jRr"
   },
   "source": [
    "We have seen how to implement the different gates needed for Shor's algorithm, how to extract information using them and finally the last part of the algorithm.\n",
    "\n",
    "Possible improvements to the system could be:\n",
    "\n",
    "* Eliminate or reduce the last part of the gate $\\phi ADD(a)mod(N)$, as it only serves to return the ancilla to the value 0. This could be done by some classically controlled process, but it could result in the gate no longer being invertible.\n",
    "* Parallelise the IQPE to reduce the length of the sections (saving time and cumulative errors), bearing in mind that almost all the computational weight resides in the gates we apply.\n",
    "* Optimise the different gates and their junctions."
   ]
  },
  {
   "cell_type": "markdown",
   "id": "a6452230-d30c-433e-be5e-f19fa35c78c2",
   "metadata": {},
   "source": [
    "In the Shor function we have implemented we require both numbers found to be prime, but in reality only one of them needs to be prime, which greatly reduces the number of queries."
   ]
  }
 ],
 "metadata": {
  "colab": {
   "collapsed_sections": [],
   "name": "Shor_Implementation.ipynb",
   "provenance": []
  },
  "kernelspec": {
   "display_name": "Python 3 (ipykernel)",
   "language": "python",
   "name": "python3"
  },
  "language_info": {
   "codemirror_mode": {
    "name": "ipython",
    "version": 3
   },
   "file_extension": ".py",
   "mimetype": "text/x-python",
   "name": "python",
   "nbconvert_exporter": "python",
   "pygments_lexer": "ipython3",
   "version": "3.8.13"
  }
 },
 "nbformat": 4,
 "nbformat_minor": 5
}
